{
 "cells": [
  {
   "cell_type": "markdown",
   "metadata": {},
   "source": [
    "<h1>Global Trends: Reader's Favorite/ Favored Genre Popularity</h1>"
   ]
  },
  {
   "cell_type": "markdown",
   "metadata": {},
   "source": [
    "Introduction\n"
   ]
  },
  {
   "cell_type": "code",
   "execution_count": 9,
   "metadata": {},
   "outputs": [
    {
     "name": "stdout",
     "output_type": "stream",
     "text": [
      "<class 'pandas.core.frame.DataFrame'>\n",
      "RangeIndex: 1070 entries, 0 to 1069\n",
      "Data columns (total 15 columns):\n",
      " #   Column               Non-Null Count  Dtype  \n",
      "---  ------               --------------  -----  \n",
      " 0   index                1070 non-null   int64  \n",
      " 1   Publishing Year      1069 non-null   float64\n",
      " 2   Book Name            1047 non-null   object \n",
      " 3   Author               1070 non-null   object \n",
      " 4   language_code        1017 non-null   object \n",
      " 5   Author_Rating        1070 non-null   object \n",
      " 6   Book_average_rating  1070 non-null   float64\n",
      " 7   Book_ratings_count   1070 non-null   int64  \n",
      " 8   genre                1070 non-null   object \n",
      " 9   gross sales          1070 non-null   float64\n",
      " 10  publisher revenue    1070 non-null   float64\n",
      " 11  sale price           1070 non-null   float64\n",
      " 12  sales rank           1070 non-null   int64  \n",
      " 13  Publisher            1070 non-null   object \n",
      " 14  units sold           1070 non-null   int64  \n",
      "dtypes: float64(5), int64(4), object(6)\n",
      "memory usage: 125.5+ KB\n",
      "None\n",
      "Index(['index', 'Publishing Year', 'Book Name', 'Author', 'language_code',\n",
      "       'Author_Rating', 'Book_average_rating', 'Book_ratings_count', 'genre',\n",
      "       'gross sales', 'publisher revenue', 'sale price', 'sales rank',\n",
      "       'Publisher ', 'units sold'],\n",
      "      dtype='object')\n",
      "% of Missing Data:\n",
      "index                  0.000000\n",
      "Publishing Year        0.093458\n",
      "Book Name              2.149533\n",
      "Author                 0.000000\n",
      "language_code          4.953271\n",
      "Author_Rating          0.000000\n",
      "Book_average_rating    0.000000\n",
      "Book_ratings_count     0.000000\n",
      "genre                  0.000000\n",
      "gross sales            0.000000\n",
      "publisher revenue      0.000000\n",
      "sale price             0.000000\n",
      "sales rank             0.000000\n",
      "Publisher              0.000000\n",
      "units sold             0.000000\n",
      "dtype: float64\n",
      "             index  Publishing Year  Book_average_rating  Book_ratings_count  \\\n",
      "count  1070.000000      1069.000000          1070.000000         1070.000000   \n",
      "mean    534.500000      1971.377923             4.007000        94909.913084   \n",
      "std     309.026698       185.080257             0.247244        31513.242518   \n",
      "min       0.000000      -560.000000             2.970000        27308.000000   \n",
      "25%     267.250000      1985.000000             3.850000        70398.000000   \n",
      "50%     534.500000      2003.000000             4.015000        89309.000000   \n",
      "75%     801.750000      2010.000000             4.170000       113906.500000   \n",
      "max    1069.000000      2016.000000             4.770000       206792.000000   \n",
      "\n",
      "        gross sales  publisher revenue   sale price   sales rank    units sold  \n",
      "count   1070.000000        1070.000000  1070.000000  1070.000000   1070.000000  \n",
      "mean    1856.622944         843.281030     4.869561   611.652336   9676.980374  \n",
      "std     3936.924240        2257.596743     3.559919   369.849830  15370.571306  \n",
      "min      104.940000           0.000000     0.990000     1.000000    106.000000  \n",
      "25%      372.465000           0.000000     1.990000   287.500000    551.250000  \n",
      "50%      809.745000         273.078000     3.990000   595.500000   3924.000000  \n",
      "75%     1487.957500         721.180500     6.990000   932.500000   5312.250000  \n",
      "max    47795.000000       28677.000000    33.860000  1273.000000  61560.000000  \n",
      "<class 'pandas.core.frame.DataFrame'>\n",
      "RangeIndex: 6810 entries, 0 to 6809\n",
      "Data columns (total 12 columns):\n",
      " #   Column          Non-Null Count  Dtype  \n",
      "---  ------          --------------  -----  \n",
      " 0   isbn13          6810 non-null   int64  \n",
      " 1   isbn10          6810 non-null   object \n",
      " 2   title           6810 non-null   object \n",
      " 3   subtitle        2381 non-null   object \n",
      " 4   authors         6738 non-null   object \n",
      " 5   categories      6711 non-null   object \n",
      " 6   thumbnail       6481 non-null   object \n",
      " 7   description     6548 non-null   object \n",
      " 8   published_year  6804 non-null   float64\n",
      " 9   average_rating  6767 non-null   float64\n",
      " 10  num_pages       6767 non-null   float64\n",
      " 11  ratings_count   6767 non-null   float64\n",
      "dtypes: float64(4), int64(1), object(7)\n",
      "memory usage: 638.6+ KB\n",
      "None\n",
      "Index(['isbn13', 'isbn10', 'title', 'subtitle', 'authors', 'categories',\n",
      "       'thumbnail', 'description', 'published_year', 'average_rating',\n",
      "       'num_pages', 'ratings_count'],\n",
      "      dtype='object')\n",
      "% of Missing Data:\n",
      "isbn13             0.000000\n",
      "isbn10             0.000000\n",
      "title              0.000000\n",
      "subtitle          65.036711\n",
      "authors            1.057269\n",
      "categories         1.453744\n",
      "thumbnail          4.831131\n",
      "description        3.847283\n",
      "published_year     0.088106\n",
      "average_rating     0.631424\n",
      "num_pages          0.631424\n",
      "ratings_count      0.631424\n",
      "dtype: float64\n",
      "             isbn13  published_year  average_rating    num_pages  \\\n",
      "count  6.810000e+03     6804.000000     6767.000000  6767.000000   \n",
      "mean   9.780677e+12     1998.630364        3.933284   348.181026   \n",
      "std    6.068911e+08       10.484257        0.331352   242.376783   \n",
      "min    9.780002e+12     1853.000000        0.000000     0.000000   \n",
      "25%    9.780330e+12     1996.000000        3.770000   208.000000   \n",
      "50%    9.780553e+12     2002.000000        3.960000   304.000000   \n",
      "75%    9.780810e+12     2005.000000        4.130000   420.000000   \n",
      "max    9.789042e+12     2019.000000        5.000000  3342.000000   \n",
      "\n",
      "       ratings_count  \n",
      "count   6.767000e+03  \n",
      "mean    2.106910e+04  \n",
      "std     1.376207e+05  \n",
      "min     0.000000e+00  \n",
      "25%     1.590000e+02  \n",
      "50%     1.018000e+03  \n",
      "75%     5.992500e+03  \n",
      "max     5.629932e+06  \n",
      "<class 'pandas.core.frame.DataFrame'>\n",
      "RangeIndex: 7928 entries, 0 to 7927\n",
      "Data columns (total 11 columns):\n",
      " #   Column               Non-Null Count  Dtype  \n",
      "---  ------               --------------  -----  \n",
      " 0   Unnamed: 0           7928 non-null   int64  \n",
      " 1   Title                7928 non-null   object \n",
      " 2   Author               7907 non-null   object \n",
      " 3   Main_Genre           7928 non-null   object \n",
      " 4   Sub_Genre            7928 non-null   object \n",
      " 5   Type                 7928 non-null   object \n",
      " 6   IDR_Price            7928 non-null   float64\n",
      " 7   USD_Price            7928 non-null   float64\n",
      " 8   Rating               7928 non-null   float64\n",
      " 9   No. of People rated  7928 non-null   int64  \n",
      " 10  URLs                 7928 non-null   object \n",
      "dtypes: float64(3), int64(2), object(6)\n",
      "memory usage: 681.4+ KB\n",
      "None\n",
      "Index(['Unnamed: 0', 'Title', 'Author', 'Main_Genre', 'Sub_Genre', 'Type',\n",
      "       'IDR_Price', 'USD_Price', 'Rating', 'No. of People rated', 'URLs'],\n",
      "      dtype='object')\n",
      "% of Missing Data:\n",
      "Unnamed: 0             0.000000\n",
      "Title                  0.000000\n",
      "Author                 0.264884\n",
      "Main_Genre             0.000000\n",
      "Sub_Genre              0.000000\n",
      "Type                   0.000000\n",
      "IDR_Price              0.000000\n",
      "USD_Price              0.000000\n",
      "Rating                 0.000000\n",
      "No. of People rated    0.000000\n",
      "URLs                   0.000000\n",
      "dtype: float64\n",
      "       Unnamed: 0     IDR_Price    USD_Price       Rating  No. of People rated\n",
      "count   7928.0000   7928.000000  7928.000000  7928.000000          7928.000000\n",
      "mean    3963.5000    492.733737     5.936551     4.260797          6479.312941\n",
      "std     2288.7608    945.900146    11.396387     0.910659         22082.884343\n",
      "min        0.0000      0.010000     0.000120     0.000000             0.000000\n",
      "25%     1981.7500    194.000000     2.337349     4.300000            63.000000\n",
      "50%     3963.5000    317.650000     3.827108     4.500000           499.000000\n",
      "75%     5945.2500    464.340000     5.594458     4.600000          2905.250000\n",
      "max     7927.0000  35829.000000   431.674699     5.000000        500119.000000\n"
     ]
    }
   ],
   "source": [
    "import pandas as pd\n",
    "import numpy as np\n",
    "import matplotlib.pyplot as plt\n",
    "import seaborn as sns\n",
    "\n",
    "trends_one= pd.read_csv('Books_Data_Clean.csv')\n",
    "trends_two= pd.read_csv('data.csv') # w/ book descriptions and genre\n",
    "genre_trend= pd.read_excel('Amazon_genres.xlsx')\n",
    "\n",
    "# General Information Function\n",
    "def EDA(df):\n",
    "    print(df.info())\n",
    "    print(df.columns)\n",
    "    \n",
    "    # Count/Percentage of Count for each column of selected dataset\n",
    "    #print(df.count())\n",
    "    maxRows = df[df.columns[0]].count()\n",
    "    print('% of Missing Data:')\n",
    "    print((1 - df.count() / maxRows) * 100)\n",
    "    \n",
    "    # Summary Statistics\n",
    "    print(df.describe())\n",
    "        \n",
    "EDA(trends_one)\n",
    "EDA(trends_two)\n",
    "EDA(genre_trend)"
   ]
  },
  {
   "cell_type": "markdown",
   "metadata": {},
   "source": [
    "Clean Up"
   ]
  },
  {
   "cell_type": "code",
   "execution_count": 10,
   "metadata": {},
   "outputs": [
    {
     "name": "stdout",
     "output_type": "stream",
     "text": [
      "<class 'pandas.core.frame.DataFrame'>\n",
      "Index: 1069 entries, 0 to 1069\n",
      "Data columns (total 14 columns):\n",
      " #   Column               Non-Null Count  Dtype  \n",
      "---  ------               --------------  -----  \n",
      " 0   Publishing Year      1069 non-null   int32  \n",
      " 1   Book Name            1069 non-null   object \n",
      " 2   Author               1069 non-null   object \n",
      " 3   language             1069 non-null   object \n",
      " 4   Author_Rating        1069 non-null   object \n",
      " 5   Book_average_rating  1069 non-null   float64\n",
      " 6   Book_ratings_count   1069 non-null   int64  \n",
      " 7   genre                1069 non-null   object \n",
      " 8   gross sales          1069 non-null   float64\n",
      " 9   publisher revenue    1069 non-null   float64\n",
      " 10  sale price           1069 non-null   float64\n",
      " 11  sales rank           1069 non-null   int64  \n",
      " 12  Publisher            1069 non-null   object \n",
      " 13  units sold           1069 non-null   int64  \n",
      "dtypes: float64(4), int32(1), int64(3), object(6)\n",
      "memory usage: 121.1+ KB\n",
      "<class 'pandas.core.frame.DataFrame'>\n",
      "Index: 6804 entries, 0 to 6809\n",
      "Data columns (total 7 columns):\n",
      " #   Column          Non-Null Count  Dtype  \n",
      "---  ------          --------------  -----  \n",
      " 0   title           6804 non-null   object \n",
      " 1   authors         6804 non-null   object \n",
      " 2   categories      6804 non-null   object \n",
      " 3   published_year  6804 non-null   float64\n",
      " 4   average_rating  6804 non-null   float64\n",
      " 5   num_pages       6804 non-null   float64\n",
      " 6   ratings_count   6804 non-null   float64\n",
      "dtypes: float64(4), object(3)\n",
      "memory usage: 425.2+ KB\n",
      "<class 'pandas.core.frame.DataFrame'>\n",
      "RangeIndex: 7928 entries, 0 to 7927\n",
      "Data columns (total 11 columns):\n",
      " #   Column               Non-Null Count  Dtype  \n",
      "---  ------               --------------  -----  \n",
      " 0   Unnamed: 0           7928 non-null   int64  \n",
      " 1   Title                7928 non-null   object \n",
      " 2   Author               7928 non-null   object \n",
      " 3   Main_Genre           7928 non-null   object \n",
      " 4   Sub_Genre            7928 non-null   object \n",
      " 5   Type                 7928 non-null   object \n",
      " 6   IDR_Price            7928 non-null   float64\n",
      " 7   USD_Price            7928 non-null   float64\n",
      " 8   Rating               7928 non-null   float64\n",
      " 9   No. of People rated  7928 non-null   int64  \n",
      " 10  URLs                 7928 non-null   object \n",
      "dtypes: float64(3), int64(2), object(6)\n",
      "memory usage: 681.4+ KB\n"
     ]
    }
   ],
   "source": [
    "#Trends 1\n",
    "trends_one.drop(columns= 'index', inplace=True)\n",
    "trends_one['Book Name'].fillna('Unknown', inplace=True)\n",
    "trends_one['language_code'].fillna('eng', inplace=True)\n",
    "trends_one.rename(columns={'language_code': 'language'}, inplace=True)\n",
    "trends_one.dropna(subset=['Publishing Year'], inplace=True)\n",
    "trends_one['Publishing Year'] = trends_one['Publishing Year'].astype(int)\n",
    "trends_one.info()\n",
    "\n",
    "#Trends 2\n",
    "trends_two.drop(columns=['isbn13','isbn10','subtitle','thumbnail', 'description'], inplace=True)\n",
    "trends_two.fillna({'categories': 'Unknown', 'authors': 'Unknown'}, inplace=True)\n",
    "trends_two.fillna({'average_rating': 0, 'num_pages': 0, 'ratings_count':0}, inplace=True)\n",
    "trends_two.dropna(subset=['published_year'], inplace=True)\n",
    "#single impurtation or fillna?\n",
    "trends_two.info()\n",
    "\n",
    "#Genre \n",
    "genre_trend['Author'].fillna('Unknown', inplace=True)\n",
    "genre_trend.info()\n"
   ]
  },
  {
   "cell_type": "markdown",
   "metadata": {},
   "source": [
    "Top ranking books 1-50 by avergae rating\n",
    "Top publishers, who's the best?"
   ]
  },
  {
   "cell_type": "code",
   "execution_count": 11,
   "metadata": {},
   "outputs": [
    {
     "name": "stdout",
     "output_type": "stream",
     "text": [
      "<class 'pandas.core.frame.DataFrame'>\n",
      "Index: 1069 entries, 0 to 1069\n",
      "Data columns (total 14 columns):\n",
      " #   Column               Non-Null Count  Dtype  \n",
      "---  ------               --------------  -----  \n",
      " 0   Publishing Year      1069 non-null   int32  \n",
      " 1   Book Name            1069 non-null   object \n",
      " 2   Author               1069 non-null   object \n",
      " 3   language             1069 non-null   object \n",
      " 4   Author_Rating        1069 non-null   object \n",
      " 5   Book_average_rating  1069 non-null   float64\n",
      " 6   Book_ratings_count   1069 non-null   int64  \n",
      " 7   genre                1069 non-null   object \n",
      " 8   gross sales          1069 non-null   float64\n",
      " 9   publisher revenue    1069 non-null   float64\n",
      " 10  sale price           1069 non-null   float64\n",
      " 11  sales rank           1069 non-null   int64  \n",
      " 12  Publisher            1069 non-null   object \n",
      " 13  units sold           1069 non-null   int64  \n",
      "dtypes: float64(4), int32(1), int64(3), object(6)\n",
      "memory usage: 121.1+ KB\n"
     ]
    }
   ],
   "source": [
    "trends_one.info()\n",
    "top_50 = trends_one.sort_values(by=['Book_average_rating'], ascending=False).reset_index(drop=True)\n",
    "#print(top_50.head(50))"
   ]
  },
  {
   "cell_type": "markdown",
   "metadata": {},
   "source": [
    "Most trending genre"
   ]
  },
  {
   "cell_type": "code",
   "execution_count": null,
   "metadata": {},
   "outputs": [],
   "source": []
  },
  {
   "cell_type": "markdown",
   "metadata": {},
   "source": [
    "Trending Genre Globally \n",
    "sales in each genre"
   ]
  },
  {
   "cell_type": "code",
   "execution_count": 12,
   "metadata": {},
   "outputs": [
    {
     "name": "stdout",
     "output_type": "stream",
     "text": [
      "genre\n",
      "genre fiction    822\n",
      "nonfiction       170\n",
      "fiction           62\n",
      "children          15\n",
      "Name: count, dtype: int64\n",
      "568\n"
     ]
    }
   ],
   "source": [
    "print(trends_one['genre'].value_counts())\n",
    "print(trends_two['categories'].nunique())\n",
    "#print(genre_trend['Genre'].value_counts())"
   ]
  },
  {
   "cell_type": "markdown",
   "metadata": {},
   "source": [
    "Top 50 Authors by Publisher Revenue"
   ]
  },
  {
   "cell_type": "code",
   "execution_count": null,
   "metadata": {},
   "outputs": [],
   "source": []
  },
  {
   "cell_type": "markdown",
   "metadata": {},
   "source": [
    "Trending genres in america \n",
    "sales within america, which genre sales more? what does this conclude"
   ]
  },
  {
   "cell_type": "markdown",
   "metadata": {},
   "source": [
    "Conclusion"
   ]
  }
 ],
 "metadata": {
  "kernelspec": {
   "display_name": "base",
   "language": "python",
   "name": "python3"
  },
  "language_info": {
   "codemirror_mode": {
    "name": "ipython",
    "version": 3
   },
   "file_extension": ".py",
   "mimetype": "text/x-python",
   "name": "python",
   "nbconvert_exporter": "python",
   "pygments_lexer": "ipython3",
   "version": "3.11.5"
  }
 },
 "nbformat": 4,
 "nbformat_minor": 2
}
