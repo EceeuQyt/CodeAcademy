{
 "cells": [
  {
   "cell_type": "markdown",
   "metadata": {},
   "source": [
    "Opening and Rewriting Files "
   ]
  },
  {
   "cell_type": "code",
   "execution_count": 1,
   "metadata": {},
   "outputs": [
    {
     "name": "stdout",
     "output_type": "stream",
     "text": [
      "['jean49', 'haydenashley', 'michaelastephens', 'denisephillips', 'andrew24', 'kaylaabbott', 'tmartinez', 'mholden', 'randygilbert', 'watsonlouis', 'mdavis', 'patrickprice', 'kgriffith', 'hannasarah', 'xaviermartin', 'hrodriguez', 'erodriguez', 'danielleclark', 'timothy26', 'elizabeth19']\n",
      "<_io.TextIOWrapper name='new_passwords.csv' mode='w' encoding='utf-8'>\n"
     ]
    }
   ],
   "source": [
    "#Python Files\n",
    "#Imports then reads password.csv\n",
    "import csv\n",
    "compromised_users = list()\n",
    "with open('passwords.csv') as password_file:\n",
    "  password_csv = csv.DictReader(password_file)\n",
    "  for password_row in password_csv:\n",
    "    compromised_users.append(password_row['Username'])\n",
    "print(compromised_users)\n",
    "#Creates txt file of copromised users from password.csv\n",
    "with open('compromised_users.txt', 'w') as compromised_user_file:\n",
    "  for user in compromised_users:\n",
    "    compromised_user_file.write(user + '\\n')\n",
    "#print(compromised_user_file)\n",
    "#with open('compromised_users.txt') as users:\n",
    "  #print(users.read())\n",
    "    \n",
    "#imports Jason Files then creates a new file as json from given Python dict()\n",
    "import json\n",
    "boss_message_dict = {\"recipient\": 'The Boss', 'message':'Mission Success'}\n",
    "with open('boss-message.json', 'w') as boss_message:\n",
    "  json.dump(boss_message_dict, boss_message)\n",
    "#print(boss_message)\n",
    "#with open('boss-message.json') as message:\n",
    "  #print(json.load(message))\n",
    "\n",
    "slash_null_sign = \"\"\"\n",
    "_  _     ___   __  ____             \n",
    "/ )( \\   / __) /  \\(_  _)            \n",
    ") \\/ (  ( (_ \\(  O ) )(              \n",
    "\\____/   \\___/ \\__/ (__)             \n",
    " _  _   __    ___  __ _  ____  ____  \n",
    "/ )( \\ / _\\  / __)(  / )(  __)(    \\ \n",
    ") __ (/    \\( (__  )  (  ) _)  ) D ( \n",
    "\\_)(_/\\_/\\_/ \\___)(__\\_)(____)(____/ \n",
    "        ____  __     __   ____  _  _ \n",
    " ___   / ___)(  )   / _\\ / ___)/ )( \\\n",
    "(___)  \\___ \\/ (_/\\/    \\\\___ \\) __ (\n",
    "       (____/\\____/\\_/\\_/(____/\\_)(_/\n",
    " __ _  _  _  __    __                \n",
    "(  ( \\/ )( \\(  )  (  )               \n",
    "/    /) \\/ (/ (_/\\/ (_/\\             \n",
    "\\_)__)\\____/\\____/\\____/ \n",
    "\"\"\"\n",
    "with open('new_passwords.csv', 'w') as new_passwords_obj:\n",
    "  new_passwords_obj.write(slash_null_sign)\n",
    "print(new_passwords_obj)\n"
   ]
  }
 ],
 "metadata": {
  "kernelspec": {
   "display_name": "base",
   "language": "python",
   "name": "python3"
  },
  "language_info": {
   "codemirror_mode": {
    "name": "ipython",
    "version": 3
   },
   "file_extension": ".py",
   "mimetype": "text/x-python",
   "name": "python",
   "nbconvert_exporter": "python",
   "pygments_lexer": "ipython3",
   "version": "3.11.5"
  }
 },
 "nbformat": 4,
 "nbformat_minor": 2
}
