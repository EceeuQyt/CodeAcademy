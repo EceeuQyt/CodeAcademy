{
 "cells": [
  {
   "cell_type": "markdown",
   "metadata": {},
   "source": [
    "Python Pandas and Dataframes"
   ]
  },
  {
   "cell_type": "code",
   "execution_count": 1,
   "metadata": {},
   "outputs": [
    {
     "name": "stdout",
     "output_type": "stream",
     "text": [
      "   Product ID   Description  Cost to Manufacture  Price  Margin  Quantity  \\\n",
      "0           1  3 inch screw                  0.5   0.75    0.25       100   \n",
      "1           2   2 inch nail                  0.1   0.25    0.15       150   \n",
      "2           3        hammer                  3.0   5.50    2.50        50   \n",
      "3           4   screwdriver                  2.5   3.00    0.50        20   \n",
      "\n",
      "   Sales Tax    Total  \n",
      "0    0.05625   6.8750  \n",
      "1    0.01875   3.1625  \n",
      "2    0.41250  29.1250  \n",
      "3    0.22500  10.0000  \n",
      "\n",
      "0    3 inch screw\n",
      "1     2 inch nail\n",
      "2          hammer\n",
      "3     screwdriver\n",
      "Name: Description, dtype: object\n",
      "    Description    Total\n",
      "0  3 inch screw   6.8750\n",
      "1   2 inch nail   3.1625\n",
      "2        hammer  29.1250\n",
      "3   screwdriver  10.0000\n"
     ]
    }
   ],
   "source": [
    "import pandas as pd\n",
    "\n",
    "#Dataframe established using dict().\n",
    "df = pd.DataFrame({\n",
    "    'Product ID':[1, 2, 3, 4], \n",
    "    'Description':['3 inch screw', '2 inch nail', 'hammer', 'screwdriver'],\n",
    "    'Cost to Manufacture':[.5, .10, 3.00, 2.50],\n",
    "    'Price':[.75, .25, 5.50, 3.00]\n",
    "})\n",
    "\n",
    "# Adding columns\n",
    "df['Margin'] = df.Price - df['Cost to Manufacture']\n",
    "\n",
    "df['Quantity'] = [100, 150, 50, 20]\n",
    "df['Sales Tax'] = df.Price * 0.075\n",
    "df['Total'] = df.Price + df['Cost to Manufacture'] + df['Sales Tax'] * df.Quantity\n",
    "description_data = df.Description \n",
    "inventory_total = df[['Description', 'Total']]\n",
    "\n",
    "print(df)\n",
    "print()\n",
    "print(description_data)\n",
    "print(inventory_total)\n"
   ]
  }
 ],
 "metadata": {
  "kernelspec": {
   "display_name": "base",
   "language": "python",
   "name": "python3"
  },
  "language_info": {
   "codemirror_mode": {
    "name": "ipython",
    "version": 3
   },
   "file_extension": ".py",
   "mimetype": "text/x-python",
   "name": "python",
   "nbconvert_exporter": "python",
   "pygments_lexer": "ipython3",
   "version": "3.11.5"
  }
 },
 "nbformat": 4,
 "nbformat_minor": 2
}
